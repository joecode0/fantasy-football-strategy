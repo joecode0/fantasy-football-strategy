{
 "cells": [
  {
   "cell_type": "code",
   "execution_count": 1,
   "metadata": {},
   "outputs": [],
   "source": [
    "import pandas as pd\n",
    "import requests\n",
    "from bs4 import BeautifulSoup as soup\n",
    "from datetime import datetime"
   ]
  },
  {
   "cell_type": "code",
   "execution_count": 2,
   "metadata": {},
   "outputs": [],
   "source": [
    "base_url = \"https://premierleague.com/match/\""
   ]
  },
  {
   "cell_type": "code",
   "execution_count": 3,
   "metadata": {},
   "outputs": [],
   "source": [
    "first_match_id = \"5567\" # should be 5567 for start of 06/07 season\n",
    "example_url = base_url + first_match_id\n",
    "response = requests.get(example_url,headers={'User-Agent': 'Custom'})\n",
    "page = soup(response.content, \"html.parser\")"
   ]
  },
  {
   "cell_type": "code",
   "execution_count": 7,
   "metadata": {
    "scrolled": true
   },
   "outputs": [
    {
     "data": {
      "text/plain": [
       "[]"
      ]
     },
     "execution_count": 7,
     "metadata": {},
     "output_type": "execute_result"
    }
   ],
   "source": [
    "example_events = get_event_data(page)\n",
    "example_events"
   ]
  },
  {
   "cell_type": "code",
   "execution_count": 55,
   "metadata": {},
   "outputs": [],
   "source": [
    "def get_match_info(page):\n",
    "    top_bar_match_info = page.findAll(\"div\",{\"class\":\"matchInfo\"})[0]\n",
    "    date_seconds = top_bar_match_info.find(\"div\",{\"class\":\"matchDate renderMatchDateContainer\"}).attrs[\"data_kickoff\"]\n",
    "    location_info = top_bar_match_info.find(\"div\",{\"class\":\"stadium\"}).text.strip().split(\",\")\n",
    "    teams_data = page.findAll(\"span\",{\"class\":\"long\"})\n",
    "    \n",
    "    \n",
    "    date = datetime.fromtimestamp(int(seconds)/1000).strftime(\"%d-%m-%Y\")\n",
    "    referee = top_bar_match_info.find(\"div\",{\"class\":\"referee\"}).text.strip()\n",
    "    stadium = location_info[0].strip()\n",
    "    location = location_info[1].strip()\n",
    "    attendance = top_bar_match_info.find(\"div\",{\"class\":\"attendance hide-m\"}).text.replace(\"Att: \",\"\").replace(\",\",\"\")\n",
    "    home_team = teams_data[0].text\n",
    "    away_team = teams_data[1].text\n",
    "    score = page.findAll(\"div\",{\"class\":\"score fullTime\"})[0].text"
   ]
  },
  {
   "cell_type": "code",
   "execution_count": null,
   "metadata": {},
   "outputs": [],
   "source": []
  },
  {
   "cell_type": "code",
   "execution_count": null,
   "metadata": {},
   "outputs": [],
   "source": []
  },
  {
   "cell_type": "code",
   "execution_count": 6,
   "metadata": {},
   "outputs": [],
   "source": [
    "def get_event_data(page):\n",
    "    home_events = page.findAll(\"div\",{\"class\":\"event home\"})\n",
    "    away_events = page.findAll(\"div\",{\"class\":\"event away\"})\n",
    "    output_events = []\n",
    "    for event in home_events:\n",
    "        type_text = event.findAll(\"span\",{\"class\":\"visuallyHidden\"})[0].text\n",
    "        # Find type of event\n",
    "        if type_text == \"Substitution\":\n",
    "            mins = event.find(\"time\",{\"class\":\"min\"}).text[:2]\n",
    "            names = event.findAll(\"a\",{\"class\":\"name\"})\n",
    "            player_off = names[0].text.split(\".\")[1].split(\"\\n\")[0].strip()\n",
    "            player_on = names[1].text.split(\".\")[1].split(\"\\n\")[0].strip()\n",
    "            sub = mins + \":\" + player_off + \",\" + player_on\n",
    "            output_events.append({\"home-sub\":sub})\n",
    "        elif type_text == \"Yellow Card\":\n",
    "            mins = event.find(\"time\",{\"class\":\"min\"}).text[:2]\n",
    "            name = event.find(\"a\",{\"class\":\"name\"}).text.split(\".\")[1].strip()\n",
    "            card = mins + \":\" + name\n",
    "            output_events.append({\"home-yellow\":card})\n",
    "        elif type_text == \"Red Card\":\n",
    "            mins = event.find(\"time\",{\"class\":\"min\"}).text[:2]\n",
    "            name = event.find(\"a\",{\"class\":\"name\"}).text.split(\".\")[1].strip()\n",
    "            card = mins + \":\" + name\n",
    "            output_events.append({\"home-red\":card})\n",
    "        elif type_text == \"Goal\":\n",
    "            mins = event.find(\"time\",{\"class\":\"min\"}).text[:2]\n",
    "            name = event.find(\"a\",{\"class\":\"name\"}).text.split(\".\")[1].strip()\n",
    "            goal = mins + \":\" + name\n",
    "            output_events.append({\"home-goal\":goal})\n",
    "    # Repeat same steps for away_events\n",
    "    for event in away_events:\n",
    "        type_text = event.findAll(\"span\",{\"class\":\"visuallyHidden\"})[0].text\n",
    "        # Find type of event\n",
    "        if type_text == \"Substitution\":\n",
    "            mins = event.find(\"time\",{\"class\":\"min\"}).text[:2]\n",
    "            names = event.findAll(\"a\",{\"class\":\"name\"})\n",
    "            player_off = names[0].text.split(\".\")[1].split(\"\\n\")[0].strip()\n",
    "            player_on = names[1].text.split(\".\")[1].split(\"\\n\")[0].strip()\n",
    "            sub = mins + \":\" + player_off + \",\" + player_on\n",
    "            output_events.append({\"away-sub\":sub})\n",
    "        elif type_text == \"Yellow Card\":\n",
    "            mins = event.find(\"time\",{\"class\":\"min\"}).text[:2]\n",
    "            name = event.find(\"a\",{\"class\":\"name\"}).text.split(\".\")[1].strip()\n",
    "            card = mins + \":\" + name\n",
    "            output_events.append({\"away-yellow\":card})\n",
    "        elif type_text == \"Red Card\":\n",
    "            mins = event.find(\"time\",{\"class\":\"min\"}).text[:2]\n",
    "            name = event.find(\"a\",{\"class\":\"name\"}).text.split(\".\")[1].strip()\n",
    "            card = mins + \":\" + name\n",
    "            output_events.append({\"away-red\":card})\n",
    "        elif type_text == \"Goal\":\n",
    "            mins = event.find(\"time\",{\"class\":\"min\"}).text[:2]\n",
    "            name = event.find(\"a\",{\"class\":\"name\"}).text.split(\".\")[1].strip()\n",
    "            goal = mins + \":\" + name \n",
    "            output_events.append({\"away-goal\":goal})\n",
    "    return output_events"
   ]
  },
  {
   "cell_type": "code",
   "execution_count": null,
   "metadata": {},
   "outputs": [],
   "source": [
    "def event_data_to_features(event_data):\n",
    "    # Outputs are: home_sub1, home_sub2, home_sub3, home_yellows, home_reds, home_goalscorers\n",
    "    # Then same for away\n",
    "    home_sub1, home_sub2, home_sub3, home_yellows, home_reds, home_goalscorers = \"\"*6\n",
    "    away_sub1, away_sub2, away_sub3, away_yellows, away_reds, away_goalscorers = \"\"*6\n",
    "    for d in output_events:\n",
    "    "
   ]
  }
 ],
 "metadata": {
  "kernelspec": {
   "display_name": "Python 3",
   "language": "python",
   "name": "python3"
  },
  "language_info": {
   "codemirror_mode": {
    "name": "ipython",
    "version": 3
   },
   "file_extension": ".py",
   "mimetype": "text/x-python",
   "name": "python",
   "nbconvert_exporter": "python",
   "pygments_lexer": "ipython3",
   "version": "3.7.6"
  }
 },
 "nbformat": 4,
 "nbformat_minor": 2
}
