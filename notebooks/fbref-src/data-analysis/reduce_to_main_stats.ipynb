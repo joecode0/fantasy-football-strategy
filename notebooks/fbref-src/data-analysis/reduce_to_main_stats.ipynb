{
 "cells": [
  {
   "cell_type": "code",
   "execution_count": 1,
   "metadata": {},
   "outputs": [],
   "source": [
    "# assisted_shots = key_passes\n",
    "def reduce_to_main_stats(df):\n",
    "    keep_cols = ['team', 'name', 'matches', 'total_mins', 'goals', 'assists', 'shots', 'shots_on_target', \n",
    "                 'touches', 'pressures', 'tackles', 'interceptions', 'blocks', 'xg', 'xa', 'sca', 'gca', \n",
    "                 'passes_completed', 'passes_attempted', 'passes_prog_dist', 'carries', 'carries_prog_dist', \n",
    "                 'dribbles_completed', 'dribbles_attempted', 'passes_total_dist', 'assisted_shots', 'passes_into_final_third', \n",
    "                 'passes_into_penalty_area', 'crosses_into_penalty_area', 'through_balls', 'switches', 'crosses', \n",
    "                 'passes_ground', 'passes_low', 'passes_high', 'tackles_won', 'dribblers_tackles', 'dribblers_attempted_vs', \n",
    "                 'dribbled_past', 'pressure_regains', 'blocked_shots', 'blocked_passes', 'clearances', 'errors', \n",
    "                 'touches_att_pen_area', 'players_dribbled_past', 'nutmegs', 'carry_distance', 'pass_target_count', \n",
    "                 'passes_received', 'miscontrols', 'dispossessed', 'fouls', 'times_fouled', 'pens_won', 'own_goals', \n",
    "                 'ball_recoveries', 'aerials_won', 'aerials_lost']\n",
    "        \n",
    "    generic_cols = [\"team\",\"name\",\"matches\",\"total_mins\"] #4\n",
    "    goals_cols = [\"goals\",\"shots\",\"shots_on_target\",\"xg\",\"own_goals\"] #5\n",
    "    assists_cols = [\"assists\",\"xa\",\"sca\",\"gca\",\"assisted_shots\",\"through_balls\"] #6\n",
    "    passes_cols = [\"passes_completed\",\"passes_attempted\",\"passes_prog_dist\",\"passes_ground\",\"passes_low\",\"passes_high\",\n",
    "                  \"passing_total_dist\",\"passes_into_final_third\",\"passes_into_penalty_area\",\"crosses\",\n",
    "                   \"crosses_into_penalty_area\",\"switches\",\"pass_target_count\",\"passes_received\"] #14\n",
    "    dribbling_cols = [\"touches\",\"carries\",\"carries_prog_dist\",\"dribbles_completed\",\"dribbles_attempted\",\"touches_att_pen_area\",\n",
    "                     \"players_dribbled_past\",\"nutmegs\",\"carry_distance\",\"times_fouled\",\"pens_won\"] #11\n",
    "    defensive_cols = [\"interceptions\",\"pressures\",\"pressure_regains\",\"tackles\",\"tackles_won\",\"dribblers_tackles\",\n",
    "                      \"dribblers_attempted_vs\",\"dribbled_past\",\"blocks\",\"blocked_shots\",\"blocked_passes\",\"clearances\",\n",
    "                     \"ball_recoveries\"] #13\n",
    "    mistake_cols = [\"errors\",\"miscontrols\",\"dispossesed\",\"fouls\"] #4\n",
    "    aerial_cols = [\"aerials_won\",\"aerials_lost\"] #2\n",
    "    \n",
    "    reordered_cols = generic_cols+goals_cols+assists_cols+passes_cols+dribbling_cols+defensive_cols+mistake_cols+aerial_cols\n",
    "    \n",
    "    df_final = df[reordered_cols].copy()\n",
    "    return df_final"
   ]
  },
  {
   "cell_type": "code",
   "execution_count": null,
   "metadata": {},
   "outputs": [],
   "source": []
  }
 ],
 "metadata": {
  "kernelspec": {
   "display_name": "Python 3",
   "language": "python",
   "name": "python3"
  },
  "language_info": {
   "codemirror_mode": {
    "name": "ipython",
    "version": 3
   },
   "file_extension": ".py",
   "mimetype": "text/x-python",
   "name": "python",
   "nbconvert_exporter": "python",
   "pygments_lexer": "ipython3",
   "version": "3.7.6"
  }
 },
 "nbformat": 4,
 "nbformat_minor": 4
}
