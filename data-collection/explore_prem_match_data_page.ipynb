{
 "cells": [
  {
   "cell_type": "code",
   "execution_count": 24,
   "metadata": {},
   "outputs": [],
   "source": [
    "import pandas as pd\n",
    "import requests\n",
    "from bs4 import BeautifulSoup as soup\n",
    "from datetime import datetime"
   ]
  },
  {
   "cell_type": "code",
   "execution_count": 4,
   "metadata": {},
   "outputs": [],
   "source": [
    "base_url = \"https://premierleague.com/match/\""
   ]
  },
  {
   "cell_type": "code",
   "execution_count": 40,
   "metadata": {},
   "outputs": [],
   "source": [
    "first_match_id = \"5567\" # should be 5567 for start of 06/07 season\n",
    "example_url = base_url + first_match_id\n",
    "response = requests.get(example_url,headers={'User-Agent': 'Custom'})\n",
    "page = soup(response.content, \"html.parser\")"
   ]
  },
  {
   "cell_type": "code",
   "execution_count": 41,
   "metadata": {},
   "outputs": [
    {
     "name": "stdout",
     "output_type": "stream",
     "text": [
      "[<span class=\"long\">Arsenal</span>, <span class=\"long\">Aston Villa</span>, <span class=\"long\">Half Time: </span>]\n",
      "Arsenal\n"
     ]
    }
   ],
   "source": [
    "info_temp = page.findAll(\"span\",{\"class\":\"long\"})\n",
    "print(info_temp)\n",
    "print(info_temp[0].text)"
   ]
  },
  {
   "cell_type": "code",
   "execution_count": null,
   "metadata": {},
   "outputs": [],
   "source": [
    "def get_match_info(page):\n",
    "    top_bar_match_info = page.findAll(\"div\",{\"class\":\"matchInfo\"})[0]\n",
    "    date_seconds = top_bar_match_info.find(\"div\",{\"class\":\"matchDate renderMatchDateContainer\"}).attrs[\"data_kickoff\"]\n",
    "    location_info = top_bar_match_info.find(\"div\",{\"class\":\"stadium\"}).text.strip().split(\",\")\n",
    "    teams_data = page.findAll(\"span\",{\"class\":\"long\"})\n",
    "    \n",
    "    \n",
    "    date = datetime.fromtimestamp(int(seconds)/1000).strftime(\"%d-%m-%Y\")\n",
    "    referee = top_bar_match_info.find(\"div\",{\"class\":\"referee\"}).text.strip()\n",
    "    stadium = location_info[0].strip()\n",
    "    location = location_info[1].strip()\n",
    "    attendance = top_bar_match_info.find(\"div\",{\"class\":\"attendance hide-m\"}).text.replace(\"Att: \",\"\").replace(\",\",\"\")\n",
    "    home_team = teams_data[0].text\n",
    "    away_team = teams_data[1].text"
   ]
  }
 ],
 "metadata": {
  "kernelspec": {
   "display_name": "Python 3",
   "language": "python",
   "name": "python3"
  },
  "language_info": {
   "codemirror_mode": {
    "name": "ipython",
    "version": 3
   },
   "file_extension": ".py",
   "mimetype": "text/x-python",
   "name": "python",
   "nbconvert_exporter": "python",
   "pygments_lexer": "ipython3",
   "version": "3.7.4"
  }
 },
 "nbformat": 4,
 "nbformat_minor": 2
}
