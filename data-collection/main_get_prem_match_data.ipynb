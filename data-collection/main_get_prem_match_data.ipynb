{
 "cells": [
  {
   "cell_type": "code",
   "execution_count": 1,
   "metadata": {},
   "outputs": [],
   "source": [
    "import pandas as pd\n",
    "import requests\n",
    "from bs4 import BeautifulSoup as soup\n",
    "from datetime import datetime"
   ]
  },
  {
   "cell_type": "code",
   "execution_count": null,
   "metadata": {},
   "outputs": [],
   "source": [
    "%run web_scraper.ipynb\n",
    "%run read_prem_data.ipynb\n",
    "base_url = \"https://premierleague.com/match/\"\n",
    "list_of_urls = [] # TODO\n",
    "dataset = [] # TODO\n",
    "for url in list_of_urls:\n",
    "    page = web_scraper(url)\n",
    "    data = read_prem_data(page)\n",
    "    # Add data to dataset\n",
    "# Save Dataset"
   ]
  }
 ],
 "metadata": {
  "kernelspec": {
   "display_name": "Python 3",
   "language": "python",
   "name": "python3"
  },
  "language_info": {
   "codemirror_mode": {
    "name": "ipython",
    "version": 3
   },
   "file_extension": ".py",
   "mimetype": "text/x-python",
   "name": "python",
   "nbconvert_exporter": "python",
   "pygments_lexer": "ipython3",
   "version": "3.7.4"
  }
 },
 "nbformat": 4,
 "nbformat_minor": 2
}
